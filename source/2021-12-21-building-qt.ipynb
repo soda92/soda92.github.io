{
 "cells": [
  {
   "cell_type": "markdown",
   "metadata": {},
   "source": [
    "# 编译Qt\n",
    "\n",
    "1.  通过 Qt Maintaince Tool 下载源码。\n",
    "2.  设置编译器环境:\n",
    "\n",
    "``` powershell\n",
    "Push-Location \"C:\\Program Files\\Microsoft Visual Studio\\2022\\Community\\VC\\Auxiliary\\Build\"\n",
    "cmd /c \"vcvars64.bat & set\" |\n",
    "ForEach-Object {\n",
    "if ($_ -match \"=\") {\n",
    "    $v = $_.split(\"=\", 2); set-item -force -path \"ENV:\\$($v[0])\" -value \"$($v[1])\"\n",
    "}\n",
    "}\n",
    "Pop-Location\n",
    "Write-Host -ForegroundColor Green \"Visual Studio 2022 Command Prompt variables set.\"\n",
    "```\n",
    "\n",
    "1.  configure:\n",
    "\n",
    "为了兼容Win7，要设置`no-feature-d3d12`.\n",
    "\n",
    "``` powershell\n",
    "# static\n",
    "..\\configure.bat -prefix C:\\Qt\\5.12.12\\msvc2022-static -release -confirm-license -opensource -nomake examples -nomake tests -nomake tools -static -static-runtime -opengl dynamic -angle -combined-angle-lib -no-feature-d3d12\n",
    "# dynamic\n",
    "..\\configure.bat -prefix C:\\Qt\\5.12.12\\msvc2022-dynamic\\ -debug-and-release -confirm-license -opensource -nomake examples -nomake tests -nomake tools -shared -opengl dynamic -angle -combined-angle-lib -no-feature-d3d12\n",
    "```\n",
    "\n",
    "1.  编译 & 安装：\n",
    "\n",
    "<!-- -->\n",
    "\n",
    "    $Env:CL=\"/MP\"\n",
    "    nmake\n",
    "    nmake install"
   ],
   "id": "d891fe8d-f1b9-4382-a368-ec78d7d9ac44"
  }
 ],
 "nbformat": 4,
 "nbformat_minor": 5,
 "metadata": {}
}
