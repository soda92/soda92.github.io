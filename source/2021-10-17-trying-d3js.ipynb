{
 "cells": [
  {
   "cell_type": "markdown",
   "metadata": {},
   "source": [
    "# 尝试d3js\n",
    "\n",
    "最近试了一下`d3js`，感觉挺不错的。\n",
    "\n",
    "官方网站：[D3.js - Data-Driven Documents](https://d3js.org)\n",
    "\n",
    "教程（在Observable）上：[Learn D3:\n",
    "Introduction](https://observablehq.com/@d3/learn-d3)\n",
    "\n",
    "Observerable真是个不错的网站，感觉比`jupyter notebook`都好用。\n",
    "\n",
    "<p class=\"codepen\" data-height=\"300\" data-default-tab=\"html,result\" data-slug-hash=\"gOxPvpR\" data-user=\"sodacris\" style=\"height: 300px; box-sizing: border-box; display: flex; align-items: center; justify-content: center; border: 2px solid; margin: 1em 0; padding: 1em;\">\n",
    "See the Pen <a href=\"https://codepen.io/sodacris/pen/gOxPvpR\">\n",
    "d3-dots</a> by SodaCris\n",
    "(<a href=\"https://codepen.io/sodacris\">@sodacris</a>) on\n",
    "<a href=\"https://codepen.io\">CodePen</a>.\n",
    "</p>\n",
    "<script async src=\"https://cpwebassets.codepen.io/assets/embed/ei.js\"></script>"
   ],
   "id": "71f289ae-8686-45a4-9d22-60833fd94471"
  }
 ],
 "nbformat": 4,
 "nbformat_minor": 5,
 "metadata": {}
}
