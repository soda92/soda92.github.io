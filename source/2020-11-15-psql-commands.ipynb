{
 "cells": [
  {
   "cell_type": "markdown",
   "metadata": {},
   "source": [
    "# psql常用命令\n",
    "\n",
    "| 命令                  | 作用                                                |\n",
    "|----------------------|--------------------------------------------------|\n",
    "| `\\h [NAME]`           | help on syntax of SQL commands, \\* for all commands |\n",
    "| `\\d[S+]`              | list tables, views, and sequences                   |\n",
    "| `\\d[S+] NAME`         | describe table, view, sequence, or index            |\n",
    "| `\\l[+] [PATTERN]`     | list databases                                      |\n",
    "| `\\echo [-n] [STRING]` | write string to standard output (-n for no newline) |\n",
    "| `\\i FILE`             | execute commands from file                          |\n",
    "| `\\cd [DIR]`           | change the current working directory                |\n",
    "| `\\c[onnect]`          | connect to new database                             |\n",
    "| `\\conninfo`           | display information about current connection        |\n",
    "| `\\q`                  | quit psql                                           |"
   ],
   "id": "5dea01b0-0f51-4a0c-996d-798235a42a5e"
  }
 ],
 "nbformat": 4,
 "nbformat_minor": 5,
 "metadata": {}
}
