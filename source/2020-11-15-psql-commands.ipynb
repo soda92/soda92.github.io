{
 "cells": [
  {
   "cell_type": "markdown",
   "id": "5dea01b0-0f51-4a0c-996d-798235a42a5e",
   "metadata": {},
   "source": [
    "# psql常用命令\n",
    "\n",
    "| 命令                  | 作用                                                |\n",
    "|----------------------|--------------------------------------------------|\n",
    "| `\\h [NAME]`           | help on syntax of SQL commands, \\* for all commands |\n",
    "| `\\d[S+]`              | list tables, views, and sequences                   |\n",
    "| `\\d[S+] NAME`         | describe table, view, sequence, or index            |\n",
    "| `\\l[+] [PATTERN]`     | list databases                                      |\n",
    "| `\\echo [-n] [STRING]` | write string to standard output (-n for no newline) |\n",
    "| `\\i FILE`             | execute commands from file                          |\n",
    "| `\\cd [DIR]`           | change the current working directory                |\n",
    "| `\\c[onnect]`          | connect to new database                             |\n",
    "| `\\conninfo`           | display information about current connection        |\n",
    "| `\\q`                  | quit psql                                           |"
   ]
  }
 ],
 "metadata": {
  "interpreter": {
   "hash": "4938d481351b2a84d419e5f1a1d6b819b6a63d8a31c9c52db810fb61e1d79b39"
  },
  "kernelspec": {
   "display_name": "Python 3.10.4 64-bit",
   "language": "python",
   "name": "python3"
  },
  "language_info": {
   "name": "python",
   "version": "3.10.4"
  }
 },
 "nbformat": 4,
 "nbformat_minor": 5
}
