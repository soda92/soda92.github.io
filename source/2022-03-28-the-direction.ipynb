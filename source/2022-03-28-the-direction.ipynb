{
 "cells": [
  {
   "cell_type": "markdown",
   "metadata": {},
   "source": [
    "# 找到方向\n",
    "\n",
    "体验过C++、java，才发现python真好用。决定用python混饭吃了。\n",
    "\n",
    "不过找不着得到工作呢…"
   ],
   "id": "40e36e20-b688-4a57-b825-e6b823d97000"
  }
 ],
 "nbformat": 4,
 "nbformat_minor": 5,
 "metadata": {}
}
