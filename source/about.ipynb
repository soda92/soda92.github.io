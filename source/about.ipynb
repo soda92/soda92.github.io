{
 "cells": [
  {
   "cell_type": "markdown",
   "metadata": {},
   "source": [
    "# 关于\n",
    "\n",
    "一切总要以实力为支撑."
   ],
   "id": "26fe2561-f247-4d6d-bd8d-40cda990ec7c"
  }
 ],
 "nbformat": 4,
 "nbformat_minor": 5,
 "metadata": {}
}
