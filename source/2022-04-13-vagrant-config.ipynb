{
 "cells": [
  {
   "cell_type": "markdown",
   "metadata": {},
   "source": [
    "# Vagrant配置"
   ]
  },
  {
   "cell_type": "markdown",
   "metadata": {},
   "source": [
    "```\n",
    "vagrant init archlinux/archlinux\n",
    "```\n",
    "\n",
    "或\n",
    "\n",
    "```\n",
    "vagrant init ubuntu/focal64\n",
    "```"
   ]
  },
  {
   "cell_type": "markdown",
   "metadata": {},
   "source": [
    "```\n",
    "  config.proxy.http     = \"http://192.168.56.1:10809\"\n",
    "  config.proxy.https    = \"http://192.168.56.1:10809\"\n",
    "  config.proxy.no_proxy = \"localhost,127.0.0.1\"\n",
    "```"
   ]
  },
  {
   "cell_type": "markdown",
   "metadata": {},
   "source": [
    "```\n",
    "vagrant plugin install vagrant-proxyconf\n",
    "```\n"
   ]
  },
  {
   "cell_type": "markdown",
   "metadata": {},
   "source": [
    "```\n",
    "vagrant up\n",
    "```"
   ]
  }
 ],
 "metadata": {
  "language_info": {
   "name": "python"
  },
  "orig_nbformat": 4
 },
 "nbformat": 4,
 "nbformat_minor": 2
}
