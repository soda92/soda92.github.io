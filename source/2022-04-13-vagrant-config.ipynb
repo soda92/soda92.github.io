{
 "cells": [
  {
   "cell_type": "markdown",
   "metadata": {},
   "source": [
    "# Vagrant配置"
   ]
  },
  {
   "cell_type": "markdown",
   "metadata": {},
   "source": [
    "```\n",
    "vagrant init archlinux/archlinux\n",
    "```\n",
    "\n",
    "或\n",
    "\n",
    "```\n",
    "vagrant init ubuntu/focal64\n",
    "```"
   ]
  },
  {
   "cell_type": "markdown",
   "metadata": {},
   "source": [
    "修改配置："
   ]
  },
  {
   "cell_type": "markdown",
   "metadata": {},
   "source": [
    "```\n",
    "if Vagrant.has_plugin?(\"vagrant-proxyconf\")\n",
    "  config.proxy.http     = \"http://192.168.56.1:10809\"\n",
    "  config.proxy.https    = \"http://192.168.56.1:10809\"\n",
    "  config.proxy.no_proxy = \"localhost,127.0.0.1\"\n",
    "end\n",
    "```"
   ]
  },
  {
   "cell_type": "markdown",
   "metadata": {},
   "source": [
    "安装插件："
   ]
  },
  {
   "cell_type": "markdown",
   "metadata": {},
   "source": [
    "```\n",
    "vagrant plugin install vagrant-proxyconf\n",
    "```\n"
   ]
  },
  {
   "cell_type": "markdown",
   "metadata": {},
   "source": [
    "启动:"
   ]
  },
  {
   "cell_type": "markdown",
   "metadata": {},
   "source": [
    "```\n",
    "vagrant up\n",
    "```"
   ]
  },
  {
   "cell_type": "markdown",
   "metadata": {},
   "source": [
    "## 更新镜像"
   ]
  },
  {
   "cell_type": "markdown",
   "metadata": {},
   "source": [
    "`vagrant box remove archlinux/archlinux`\n",
    "\n",
    "`vagrant box add archlinux/archlinux`"
   ]
  },
  {
   "cell_type": "markdown",
   "metadata": {},
   "source": [
    "```\n",
    "vagrant box remove ubuntu/focal64\n",
    "vagrant box add ubuntu/focal64\n",
    "```"
   ]
  },
  {
   "cell_type": "markdown",
   "metadata": {},
   "source": [
    "## 完整配置\n",
    "\n",
    "```\n",
    "# -*- mode: ruby -*-\n",
    "# vi: set ft=ruby :\n",
    "\n",
    "# All Vagrant configuration is done below. The \"2\" in Vagrant.configure\n",
    "# configures the configuration version (we support older styles for\n",
    "# backwards compatibility). Please don't change it unless you know what\n",
    "# you're doing.\n",
    "Vagrant.configure(\"2\") do |config|\n",
    "  # The most common configuration options are documented and commented below.\n",
    "  # For a complete reference, please see the online documentation at\n",
    "  # https://docs.vagrantup.com.\n",
    "\n",
    "  # Every Vagrant development environment requires a box. You can search for\n",
    "  # boxes at https://vagrantcloud.com/search.\n",
    "  # glibc not compatitable. TODO: use archlinux on host or use ubuntu to build.\n",
    "  # config.vm.box = \"archlinux/archlinux\"\n",
    "  config.vm.box = \"ubuntu/focal64\"\n",
    "  if Vagrant.has_plugin?(\"vagrant-proxyconf\")\n",
    "    config.proxy.http     = \"http://192.168.56.1:10809\"\n",
    "    config.proxy.https    = \"http://192.168.56.1:10809\"\n",
    "    config.proxy.no_proxy = \"localhost,127.0.0.1\"\n",
    "  end\n",
    "\n",
    "  # Disable automatic box update checking. If you disable this, then\n",
    "  # boxes will only be checked for updates when the user runs\n",
    "  # `vagrant box outdated`. This is not recommended.\n",
    "  # config.vm.box_check_update = false\n",
    "\n",
    "  # Create a forwarded port mapping which allows access to a specific port\n",
    "  # within the machine from a port on the host machine. In the example below,\n",
    "  # accessing \"localhost:8080\" will access port 80 on the guest machine.\n",
    "  # NOTE: This will enable public access to the opened port\n",
    "  # config.vm.network \"forwarded_port\", guest: 80, host: 8080\n",
    "\n",
    "  # Create a forwarded port mapping which allows access to a specific port\n",
    "  # within the machine from a port on the host machine and only allow access\n",
    "  # via 127.0.0.1 to disable public access\n",
    "  # config.vm.network \"forwarded_port\", guest: 80, host: 8080, host_ip: \"127.0.0.1\"\n",
    "\n",
    "  # Create a private network, which allows host-only access to the machine\n",
    "  # using a specific IP.\n",
    "  # config.vm.network \"private_network\", ip: \"192.168.33.10\"\n",
    "\n",
    "  # Create a public network, which generally matched to bridged network.\n",
    "  # Bridged networks make the machine appear as another physical device on\n",
    "  # your network.\n",
    "  # config.vm.network \"public_network\"\n",
    "\n",
    "  # Share an additional folder to the guest VM. The first argument is\n",
    "  # the path on the host to the actual folder. The second argument is\n",
    "  # the path on the guest to mount the folder. And the optional third\n",
    "  # argument is a set of non-required options.\n",
    "  # config.vm.synced_folder \".\", \"/vagrant/\"\n",
    "\n",
    "  # Provider-specific configuration so you can fine-tune various\n",
    "  # backing providers for Vagrant. These expose provider-specific options.\n",
    "  # Example for VirtualBox:\n",
    "  #\n",
    "  # config.vm.provider \"virtualbox\" do |vb|\n",
    "  #   # Display the VirtualBox GUI when booting the machine\n",
    "  #   vb.gui = true\n",
    "  #\n",
    "  #   # Customize the amount of memory on the VM:\n",
    "  #   vb.memory = \"1024\"\n",
    "  # end\n",
    "\n",
    "  config.vm.provider \"virtualbox\" do |v|\n",
    "    v.memory = 8192\n",
    "    v.cpus = 4\n",
    "  end\n",
    "  #\n",
    "  # View the documentation for the provider you are using for more\n",
    "  # information on available options.\n",
    "\n",
    "  # Enable provisioning with a shell script. Additional provisioners such as\n",
    "  # Ansible, Chef, Docker, Puppet and Salt are also available. Please see the\n",
    "  # documentation for more information about their specific syntax and use.\n",
    "  # config.vm.provision \"shell\", inline: <<-SHELL\n",
    "  #   pacman -Syu python-pip libxcrypt-compat --needed --noconfirm\n",
    "  #   su vagrant\n",
    "  #   export PATH=$PATH:~/.local/bin/\n",
    "  #   echo 'export PATH=$PATH:~/.local/bin/' >> ~/.bashrc\n",
    "  #   pip install -U pip\n",
    "  #   pip install pyoxidizer\n",
    "  #   SHELL\n",
    "  config.vm.provision \"shell\", inline: <<-SHELL\n",
    "    apt update\n",
    "    apt install python3-pip\n",
    "    # pacman -Syu python-pip libxcrypt-compat --needed --noconfirm\n",
    "    su vagrant\n",
    "    export PATH=~/.local/bin:$PATH\n",
    "    echo 'export PATH=~/.local/bin:$PATH' >> ~/.bashrc\n",
    "    source ~/.bashrc\n",
    "    pip3 install -U pip\n",
    "    pip3 install pyoxidizer\n",
    "    SHELL\n",
    "    # cd /vagrant\n",
    "    # pyoxidizer build install\n",
    "end\n",
    "\n",
    "```"
   ]
  },
  {
   "cell_type": "markdown",
   "metadata": {},
   "source": [
    "## 其他"
   ]
  },
  {
   "cell_type": "markdown",
   "metadata": {},
   "source": [
    "编译之后无法在ubuntu desktop上运行, 提示xcb错误, 可以通过安装libxcb-xinerama0解决.\n",
    "\n",
    "```\n",
    "sudo apt-get install libxcb-xinerama0\n",
    "```\n",
    "\n",
    "参考: https://github.com/supertriodo/Arena-Tracker/issues/52"
   ]
  }
 ],
 "metadata": {
  "language_info": {
   "name": "python"
  },
  "orig_nbformat": 4
 },
 "nbformat": 4,
 "nbformat_minor": 2
}
