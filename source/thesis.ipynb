{
 "cells": [
  {
   "cell_type": "markdown",
   "metadata": {},
   "source": [
    "# 论文"
   ]
  },
  {
   "cell_type": "markdown",
   "metadata": {},
   "source": [
    "标题：MFC到PyQt应用的迁移"
   ]
  },
  {
   "cell_type": "markdown",
   "metadata": {},
   "source": [
    "## 概述"
   ]
  },
  {
   "cell_type": "markdown",
   "metadata": {},
   "source": [
    "MFC是比较旧的一套界面库。随着技术的发展，出现了新一代界面库-Qt。它具有很多优点。但因为由C++编写，需要一定技术基础才能使用。Python是易于使用的解释型语言。PyQt框架结合的Python的易用和Qt的强大，具有很好的应用前景。本文结合实际项目，从多个方面论述了如何将一个MFC应用移植到PyQt框架，并进行了总结。"
   ]
  },
  {
   "cell_type": "markdown",
   "metadata": {},
   "source": [
    "## 背景"
   ]
  },
  {
   "cell_type": "markdown",
   "metadata": {},
   "source": [
    "C是一个通用的过程式语言, 它具有静态类型, 支持结构化编程[ref](https://en.wikipedia.org/wiki/C_(programming_language)). 随着时间的演变, C语言成为了程序间的通用语言, 每个编程语言必须支持C才能与系统交互. C语言是如此的旧, 存在各种遗留语法和默认标准, 以至于添加新功能变得十分困难--因为很多程序已经默认它不会改变. 事实上, 只有编译器才能解析C语言程序; 并且, C语言没有固定的ABI或内存布局[ref](https://gankra.github.io/blah/c-isnt-a-language/)."
   ]
  },
  {
   "cell_type": "markdown",
   "metadata": {},
   "source": [
    "C++作为C的扩展, 加入了对象和标准库[ref](https://en.wikipedia.org/wiki/C%2B%2B). MFC用C++的形式封装了Windows API, 于1992年发布, 作为Windows界面编程的事实标准."
   ]
  },
  {
   "cell_type": "markdown",
   "metadata": {},
   "source": [
    "随着时间的发展, 出现了其他界面框架, 如wxWidgets和Qt. Qt4.0在2005年发布, 同时支持Windows和Linux. 它的消息系统使它广受欢迎."
   ]
  },
  {
   "cell_type": "markdown",
   "metadata": {},
   "source": [
    "Python是一个高阶的通用编程语言, 具有动态类型和自动垃圾回收, 使用Python编写的程序具有清晰的逻辑和很好的可读性. PyQt以插件的形式, 使人们在Python中可以使用Qt库. "
   ]
  },
  {
   "cell_type": "markdown",
   "metadata": {},
   "source": [
    "## 旧的MFC项目"
   ]
  },
  {
   "cell_type": "markdown",
   "metadata": {},
   "source": [
    "此项目为录像应用, 使用MFC/C++编写, VS2010开发, 运行于车载Windows7系统. 具有录像和记录运行信息功能."
   ]
  },
  {
   "cell_type": "markdown",
   "metadata": {},
   "source": [
    "录像功能使用FFmpeg库实现, 包含自定义的调用FFmpeg API的函数. 视频浏览使用摄像头厂家提供的SDK. 机车运行信息由连接到机车设备上的串口读取. 传感器信息由连接到传感器的串口读取. 机车两端的程序通过交换机连接, 通过socket通信."
   ]
  },
  {
   "cell_type": "markdown",
   "metadata": {},
   "source": [
    "## 移植过程"
   ]
  },
  {
   "cell_type": "markdown",
   "metadata": {},
   "source": [
    "视频浏览库需要封装以供Python使用, 录像功能的依赖库过旧需要替代. socket通信使用网络服务替代. 串口由自定义封装."
   ]
  }
 ],
 "metadata": {
  "interpreter": {
   "hash": "4938d481351b2a84d419e5f1a1d6b819b6a63d8a31c9c52db810fb61e1d79b39"
  },
  "kernelspec": {
   "display_name": "Python 3.10.4 64-bit",
   "language": "python",
   "name": "python3"
  },
  "language_info": {
   "name": "python",
   "version": "3.10.4"
  },
  "orig_nbformat": 4
 },
 "nbformat": 4,
 "nbformat_minor": 2
}
